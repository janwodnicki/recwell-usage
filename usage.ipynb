{
 "cells": [
  {
   "cell_type": "code",
   "execution_count": 76,
   "metadata": {},
   "outputs": [],
   "source": [
    "import pandas as pd\n",
    "import sqlite3\n",
    "from settings import DF_NAME\n",
    "import dateparser\n",
    "import warnings\n",
    "warnings.filterwarnings(\"ignore\")\n",
    "\n",
    "def last_updated_to_datetime(row):\n",
    "    timestamp_datetime = dateparser.parse(row.timestamp)\n",
    "    settings = dict(RELATIVE_BASE=timestamp_datetime)\n",
    "    last_updated_clean = row.last_updated.replace('Updated ', '').replace('moments', '0 minutes')\n",
    "\n",
    "    # Ignore updates older than an hour for simplicity, will be removed later\n",
    "    if 'minutes' in last_updated_clean:\n",
    "        update_time = dateparser.parse(last_updated_clean, settings=settings)\n",
    "    else:\n",
    "        update_time = None\n",
    "\n",
    "    row['update_time'] = update_time\n",
    "    return row\n",
    "\n",
    "def match_updates(df):\n",
    "    df['match'] = None\n",
    "    for i, row in df.iterrows():\n",
    "        if not df.match[i]:\n",
    "            deltas = (row['update_time'] - df.update_time)\n",
    "            delta_filter = deltas.dt.total_seconds().abs().le(300)\n",
    "            df.match[delta_filter] = i\n",
    "    return df\n",
    "\n",
    "def reduce_updates(df):\n",
    "    reduced = df[df.last_updated.str.contains('minutes')]\n",
    "    return reduced.drop_duplicates(subset=['location', 'current_count', 'match'])\n",
    "\n",
    "conn = sqlite3.connect(DF_NAME)\n",
    "df = pd.read_sql(\"select * from usage\", conn)\n",
    "df_update_time = df.apply(last_updated_to_datetime, axis=1)         \n",
    "matched = match_updates(df_update_time)\n",
    "reduced = reduce_updates(matched)"
   ]
  },
  {
   "cell_type": "code",
   "execution_count": 77,
   "metadata": {},
   "outputs": [
    {
     "data": {
      "application/vnd.plotly.v1+json": {
       "config": {
        "plotlyServerURL": "https://plot.ly"
       },
       "data": [
        {
         "hovertemplate": "location=Nick Level 1 Fitness<br>timestamp=%{x}<br>capacity=%{y}<extra></extra>",
         "legendgroup": "Nick Level 1 Fitness",
         "marker": {
          "color": "#636efa",
          "symbol": "circle"
         },
         "mode": "markers",
         "name": "Nick Level 1 Fitness",
         "orientation": "v",
         "showlegend": true,
         "type": "scatter",
         "x": [
          "2022-01-30 13:48:41.860946",
          "2022-01-30 15:33:09.645492",
          "2022-01-30 17:00:03.478377",
          "2022-01-30 18:00:58.013772",
          "2022-01-30 19:31:51.464544",
          "2022-01-30 20:17:20.644409",
          "2022-01-30 20:47:43.808285",
          "2022-01-30 23:11:55.378220",
          "2022-01-31 08:44:16.902889",
          "2022-01-31 09:14:48.424382",
          "2022-01-31 10:23:45.202530",
          "2022-01-31 11:31:29.498531",
          "2022-01-31 12:35:02.146118"
         ],
         "xaxis": "x",
         "y": [
          0.6444444444444445,
          0.8666666666666667,
          0.8888888888888888,
          0.6666666666666666,
          0.7555555555555555,
          0.6,
          0.4,
          0.26666666666666666,
          1.1777777777777778,
          1.1777777777777778,
          1,
          1.0888888888888888,
          0.7555555555555555
         ],
         "yaxis": "y"
        },
        {
         "hovertemplate": "location=Nick Level 2 Fitness<br>timestamp=%{x}<br>capacity=%{y}<extra></extra>",
         "legendgroup": "Nick Level 2 Fitness",
         "marker": {
          "color": "#EF553B",
          "symbol": "circle"
         },
         "mode": "markers",
         "name": "Nick Level 2 Fitness",
         "orientation": "v",
         "showlegend": true,
         "type": "scatter",
         "x": [
          "2022-01-30 13:48:41.860946",
          "2022-01-30 15:33:09.645492",
          "2022-01-30 17:00:03.478377",
          "2022-01-30 18:00:58.013772",
          "2022-01-30 19:31:51.464544",
          "2022-01-30 20:17:20.644409",
          "2022-01-30 20:47:43.808285",
          "2022-01-30 23:11:55.378220",
          "2022-01-31 08:44:16.902889",
          "2022-01-31 09:14:48.424382",
          "2022-01-31 10:23:45.202530",
          "2022-01-31 11:31:29.498531",
          "2022-01-31 12:35:02.146118"
         ],
         "xaxis": "x",
         "y": [
          0.625,
          1.05,
          1.25,
          1.2,
          1.05,
          0.6,
          0.3,
          0.15,
          1.275,
          1.1,
          1.225,
          1,
          0.925
         ],
         "yaxis": "y"
        },
        {
         "hovertemplate": "location=Nick Level 3 Fitness<br>timestamp=%{x}<br>capacity=%{y}<extra></extra>",
         "legendgroup": "Nick Level 3 Fitness",
         "marker": {
          "color": "#00cc96",
          "symbol": "circle"
         },
         "mode": "markers",
         "name": "Nick Level 3 Fitness",
         "orientation": "v",
         "showlegend": true,
         "type": "scatter",
         "x": [
          "2022-01-30 13:48:41.860946",
          "2022-01-30 15:17:53.811024",
          "2022-01-30 16:29:20.101494",
          "2022-01-30 17:45:44.120317",
          "2022-01-30 19:31:51.464544",
          "2022-01-30 20:02:08.110500",
          "2022-01-30 20:47:43.808285",
          "2022-01-30 23:11:55.378220",
          "2022-01-31 08:44:16.902889",
          "2022-01-31 09:14:48.424382",
          "2022-01-31 09:29:58.324910",
          "2022-01-31 10:23:45.202530",
          "2022-01-31 11:31:29.498531",
          "2022-01-31 12:35:02.146118"
         ],
         "xaxis": "x",
         "y": [
          0.9,
          0.7714285714285715,
          1.0714285714285714,
          1.2285714285714286,
          1.1857142857142857,
          1,
          1.0142857142857142,
          0.5428571428571428,
          1.5285714285714285,
          1,
          1,
          1.5714285714285714,
          1.2857142857142858,
          1.0857142857142856
         ],
         "yaxis": "y"
        }
       ],
       "layout": {
        "legend": {
         "title": {
          "text": "location"
         },
         "tracegroupgap": 0
        },
        "margin": {
         "t": 60
        },
        "template": {
         "data": {
          "bar": [
           {
            "error_x": {
             "color": "#2a3f5f"
            },
            "error_y": {
             "color": "#2a3f5f"
            },
            "marker": {
             "line": {
              "color": "#E5ECF6",
              "width": 0.5
             },
             "pattern": {
              "fillmode": "overlay",
              "size": 10,
              "solidity": 0.2
             }
            },
            "type": "bar"
           }
          ],
          "barpolar": [
           {
            "marker": {
             "line": {
              "color": "#E5ECF6",
              "width": 0.5
             },
             "pattern": {
              "fillmode": "overlay",
              "size": 10,
              "solidity": 0.2
             }
            },
            "type": "barpolar"
           }
          ],
          "carpet": [
           {
            "aaxis": {
             "endlinecolor": "#2a3f5f",
             "gridcolor": "white",
             "linecolor": "white",
             "minorgridcolor": "white",
             "startlinecolor": "#2a3f5f"
            },
            "baxis": {
             "endlinecolor": "#2a3f5f",
             "gridcolor": "white",
             "linecolor": "white",
             "minorgridcolor": "white",
             "startlinecolor": "#2a3f5f"
            },
            "type": "carpet"
           }
          ],
          "choropleth": [
           {
            "colorbar": {
             "outlinewidth": 0,
             "ticks": ""
            },
            "type": "choropleth"
           }
          ],
          "contour": [
           {
            "colorbar": {
             "outlinewidth": 0,
             "ticks": ""
            },
            "colorscale": [
             [
              0,
              "#0d0887"
             ],
             [
              0.1111111111111111,
              "#46039f"
             ],
             [
              0.2222222222222222,
              "#7201a8"
             ],
             [
              0.3333333333333333,
              "#9c179e"
             ],
             [
              0.4444444444444444,
              "#bd3786"
             ],
             [
              0.5555555555555556,
              "#d8576b"
             ],
             [
              0.6666666666666666,
              "#ed7953"
             ],
             [
              0.7777777777777778,
              "#fb9f3a"
             ],
             [
              0.8888888888888888,
              "#fdca26"
             ],
             [
              1,
              "#f0f921"
             ]
            ],
            "type": "contour"
           }
          ],
          "contourcarpet": [
           {
            "colorbar": {
             "outlinewidth": 0,
             "ticks": ""
            },
            "type": "contourcarpet"
           }
          ],
          "heatmap": [
           {
            "colorbar": {
             "outlinewidth": 0,
             "ticks": ""
            },
            "colorscale": [
             [
              0,
              "#0d0887"
             ],
             [
              0.1111111111111111,
              "#46039f"
             ],
             [
              0.2222222222222222,
              "#7201a8"
             ],
             [
              0.3333333333333333,
              "#9c179e"
             ],
             [
              0.4444444444444444,
              "#bd3786"
             ],
             [
              0.5555555555555556,
              "#d8576b"
             ],
             [
              0.6666666666666666,
              "#ed7953"
             ],
             [
              0.7777777777777778,
              "#fb9f3a"
             ],
             [
              0.8888888888888888,
              "#fdca26"
             ],
             [
              1,
              "#f0f921"
             ]
            ],
            "type": "heatmap"
           }
          ],
          "heatmapgl": [
           {
            "colorbar": {
             "outlinewidth": 0,
             "ticks": ""
            },
            "colorscale": [
             [
              0,
              "#0d0887"
             ],
             [
              0.1111111111111111,
              "#46039f"
             ],
             [
              0.2222222222222222,
              "#7201a8"
             ],
             [
              0.3333333333333333,
              "#9c179e"
             ],
             [
              0.4444444444444444,
              "#bd3786"
             ],
             [
              0.5555555555555556,
              "#d8576b"
             ],
             [
              0.6666666666666666,
              "#ed7953"
             ],
             [
              0.7777777777777778,
              "#fb9f3a"
             ],
             [
              0.8888888888888888,
              "#fdca26"
             ],
             [
              1,
              "#f0f921"
             ]
            ],
            "type": "heatmapgl"
           }
          ],
          "histogram": [
           {
            "marker": {
             "pattern": {
              "fillmode": "overlay",
              "size": 10,
              "solidity": 0.2
             }
            },
            "type": "histogram"
           }
          ],
          "histogram2d": [
           {
            "colorbar": {
             "outlinewidth": 0,
             "ticks": ""
            },
            "colorscale": [
             [
              0,
              "#0d0887"
             ],
             [
              0.1111111111111111,
              "#46039f"
             ],
             [
              0.2222222222222222,
              "#7201a8"
             ],
             [
              0.3333333333333333,
              "#9c179e"
             ],
             [
              0.4444444444444444,
              "#bd3786"
             ],
             [
              0.5555555555555556,
              "#d8576b"
             ],
             [
              0.6666666666666666,
              "#ed7953"
             ],
             [
              0.7777777777777778,
              "#fb9f3a"
             ],
             [
              0.8888888888888888,
              "#fdca26"
             ],
             [
              1,
              "#f0f921"
             ]
            ],
            "type": "histogram2d"
           }
          ],
          "histogram2dcontour": [
           {
            "colorbar": {
             "outlinewidth": 0,
             "ticks": ""
            },
            "colorscale": [
             [
              0,
              "#0d0887"
             ],
             [
              0.1111111111111111,
              "#46039f"
             ],
             [
              0.2222222222222222,
              "#7201a8"
             ],
             [
              0.3333333333333333,
              "#9c179e"
             ],
             [
              0.4444444444444444,
              "#bd3786"
             ],
             [
              0.5555555555555556,
              "#d8576b"
             ],
             [
              0.6666666666666666,
              "#ed7953"
             ],
             [
              0.7777777777777778,
              "#fb9f3a"
             ],
             [
              0.8888888888888888,
              "#fdca26"
             ],
             [
              1,
              "#f0f921"
             ]
            ],
            "type": "histogram2dcontour"
           }
          ],
          "mesh3d": [
           {
            "colorbar": {
             "outlinewidth": 0,
             "ticks": ""
            },
            "type": "mesh3d"
           }
          ],
          "parcoords": [
           {
            "line": {
             "colorbar": {
              "outlinewidth": 0,
              "ticks": ""
             }
            },
            "type": "parcoords"
           }
          ],
          "pie": [
           {
            "automargin": true,
            "type": "pie"
           }
          ],
          "scatter": [
           {
            "marker": {
             "colorbar": {
              "outlinewidth": 0,
              "ticks": ""
             }
            },
            "type": "scatter"
           }
          ],
          "scatter3d": [
           {
            "line": {
             "colorbar": {
              "outlinewidth": 0,
              "ticks": ""
             }
            },
            "marker": {
             "colorbar": {
              "outlinewidth": 0,
              "ticks": ""
             }
            },
            "type": "scatter3d"
           }
          ],
          "scattercarpet": [
           {
            "marker": {
             "colorbar": {
              "outlinewidth": 0,
              "ticks": ""
             }
            },
            "type": "scattercarpet"
           }
          ],
          "scattergeo": [
           {
            "marker": {
             "colorbar": {
              "outlinewidth": 0,
              "ticks": ""
             }
            },
            "type": "scattergeo"
           }
          ],
          "scattergl": [
           {
            "marker": {
             "colorbar": {
              "outlinewidth": 0,
              "ticks": ""
             }
            },
            "type": "scattergl"
           }
          ],
          "scattermapbox": [
           {
            "marker": {
             "colorbar": {
              "outlinewidth": 0,
              "ticks": ""
             }
            },
            "type": "scattermapbox"
           }
          ],
          "scatterpolar": [
           {
            "marker": {
             "colorbar": {
              "outlinewidth": 0,
              "ticks": ""
             }
            },
            "type": "scatterpolar"
           }
          ],
          "scatterpolargl": [
           {
            "marker": {
             "colorbar": {
              "outlinewidth": 0,
              "ticks": ""
             }
            },
            "type": "scatterpolargl"
           }
          ],
          "scatterternary": [
           {
            "marker": {
             "colorbar": {
              "outlinewidth": 0,
              "ticks": ""
             }
            },
            "type": "scatterternary"
           }
          ],
          "surface": [
           {
            "colorbar": {
             "outlinewidth": 0,
             "ticks": ""
            },
            "colorscale": [
             [
              0,
              "#0d0887"
             ],
             [
              0.1111111111111111,
              "#46039f"
             ],
             [
              0.2222222222222222,
              "#7201a8"
             ],
             [
              0.3333333333333333,
              "#9c179e"
             ],
             [
              0.4444444444444444,
              "#bd3786"
             ],
             [
              0.5555555555555556,
              "#d8576b"
             ],
             [
              0.6666666666666666,
              "#ed7953"
             ],
             [
              0.7777777777777778,
              "#fb9f3a"
             ],
             [
              0.8888888888888888,
              "#fdca26"
             ],
             [
              1,
              "#f0f921"
             ]
            ],
            "type": "surface"
           }
          ],
          "table": [
           {
            "cells": {
             "fill": {
              "color": "#EBF0F8"
             },
             "line": {
              "color": "white"
             }
            },
            "header": {
             "fill": {
              "color": "#C8D4E3"
             },
             "line": {
              "color": "white"
             }
            },
            "type": "table"
           }
          ]
         },
         "layout": {
          "annotationdefaults": {
           "arrowcolor": "#2a3f5f",
           "arrowhead": 0,
           "arrowwidth": 1
          },
          "autotypenumbers": "strict",
          "coloraxis": {
           "colorbar": {
            "outlinewidth": 0,
            "ticks": ""
           }
          },
          "colorscale": {
           "diverging": [
            [
             0,
             "#8e0152"
            ],
            [
             0.1,
             "#c51b7d"
            ],
            [
             0.2,
             "#de77ae"
            ],
            [
             0.3,
             "#f1b6da"
            ],
            [
             0.4,
             "#fde0ef"
            ],
            [
             0.5,
             "#f7f7f7"
            ],
            [
             0.6,
             "#e6f5d0"
            ],
            [
             0.7,
             "#b8e186"
            ],
            [
             0.8,
             "#7fbc41"
            ],
            [
             0.9,
             "#4d9221"
            ],
            [
             1,
             "#276419"
            ]
           ],
           "sequential": [
            [
             0,
             "#0d0887"
            ],
            [
             0.1111111111111111,
             "#46039f"
            ],
            [
             0.2222222222222222,
             "#7201a8"
            ],
            [
             0.3333333333333333,
             "#9c179e"
            ],
            [
             0.4444444444444444,
             "#bd3786"
            ],
            [
             0.5555555555555556,
             "#d8576b"
            ],
            [
             0.6666666666666666,
             "#ed7953"
            ],
            [
             0.7777777777777778,
             "#fb9f3a"
            ],
            [
             0.8888888888888888,
             "#fdca26"
            ],
            [
             1,
             "#f0f921"
            ]
           ],
           "sequentialminus": [
            [
             0,
             "#0d0887"
            ],
            [
             0.1111111111111111,
             "#46039f"
            ],
            [
             0.2222222222222222,
             "#7201a8"
            ],
            [
             0.3333333333333333,
             "#9c179e"
            ],
            [
             0.4444444444444444,
             "#bd3786"
            ],
            [
             0.5555555555555556,
             "#d8576b"
            ],
            [
             0.6666666666666666,
             "#ed7953"
            ],
            [
             0.7777777777777778,
             "#fb9f3a"
            ],
            [
             0.8888888888888888,
             "#fdca26"
            ],
            [
             1,
             "#f0f921"
            ]
           ]
          },
          "colorway": [
           "#636efa",
           "#EF553B",
           "#00cc96",
           "#ab63fa",
           "#FFA15A",
           "#19d3f3",
           "#FF6692",
           "#B6E880",
           "#FF97FF",
           "#FECB52"
          ],
          "font": {
           "color": "#2a3f5f"
          },
          "geo": {
           "bgcolor": "white",
           "lakecolor": "white",
           "landcolor": "#E5ECF6",
           "showlakes": true,
           "showland": true,
           "subunitcolor": "white"
          },
          "hoverlabel": {
           "align": "left"
          },
          "hovermode": "closest",
          "mapbox": {
           "style": "light"
          },
          "paper_bgcolor": "white",
          "plot_bgcolor": "#E5ECF6",
          "polar": {
           "angularaxis": {
            "gridcolor": "white",
            "linecolor": "white",
            "ticks": ""
           },
           "bgcolor": "#E5ECF6",
           "radialaxis": {
            "gridcolor": "white",
            "linecolor": "white",
            "ticks": ""
           }
          },
          "scene": {
           "xaxis": {
            "backgroundcolor": "#E5ECF6",
            "gridcolor": "white",
            "gridwidth": 2,
            "linecolor": "white",
            "showbackground": true,
            "ticks": "",
            "zerolinecolor": "white"
           },
           "yaxis": {
            "backgroundcolor": "#E5ECF6",
            "gridcolor": "white",
            "gridwidth": 2,
            "linecolor": "white",
            "showbackground": true,
            "ticks": "",
            "zerolinecolor": "white"
           },
           "zaxis": {
            "backgroundcolor": "#E5ECF6",
            "gridcolor": "white",
            "gridwidth": 2,
            "linecolor": "white",
            "showbackground": true,
            "ticks": "",
            "zerolinecolor": "white"
           }
          },
          "shapedefaults": {
           "line": {
            "color": "#2a3f5f"
           }
          },
          "ternary": {
           "aaxis": {
            "gridcolor": "white",
            "linecolor": "white",
            "ticks": ""
           },
           "baxis": {
            "gridcolor": "white",
            "linecolor": "white",
            "ticks": ""
           },
           "bgcolor": "#E5ECF6",
           "caxis": {
            "gridcolor": "white",
            "linecolor": "white",
            "ticks": ""
           }
          },
          "title": {
           "x": 0.05
          },
          "xaxis": {
           "automargin": true,
           "gridcolor": "white",
           "linecolor": "white",
           "ticks": "",
           "title": {
            "standoff": 15
           },
           "zerolinecolor": "white",
           "zerolinewidth": 2
          },
          "yaxis": {
           "automargin": true,
           "gridcolor": "white",
           "linecolor": "white",
           "ticks": "",
           "title": {
            "standoff": 15
           },
           "zerolinecolor": "white",
           "zerolinewidth": 2
          }
         }
        },
        "xaxis": {
         "anchor": "y",
         "domain": [
          0,
          1
         ],
         "title": {
          "text": "timestamp"
         }
        },
        "yaxis": {
         "anchor": "x",
         "domain": [
          0,
          1
         ],
         "range": [
          0,
          2
         ],
         "title": {
          "text": "capacity"
         }
        }
       }
      }
     },
     "metadata": {},
     "output_type": "display_data"
    }
   ],
   "source": [
    "import plotly.express as px\n",
    "\n",
    "reduced.max_count = pd.to_numeric(reduced.max_count)\n",
    "reduced.current_count = pd.to_numeric(reduced.current_count)\n",
    "reduced['capacity'] = reduced.current_count / reduced.max_count\n",
    "\n",
    "fig = px.scatter(reduced[reduced.location.str.contains('Fitness')], x='timestamp', y='capacity', color='location')\n",
    "fig.update_yaxes(range=(0,2))"
   ]
  },
  {
   "cell_type": "code",
   "execution_count": 84,
   "metadata": {},
   "outputs": [
    {
     "data": {
      "text/plain": [
       "0.7548387096774194"
      ]
     },
     "execution_count": 84,
     "metadata": {},
     "output_type": "execute_result"
    }
   ],
   "source": [
    "group1 = reduced[reduced.location.str.contains('Fitness')].groupby('match').get_group(1)\n",
    "\n",
    "group1.current_count.sum() / group1.max_count.sum()"
   ]
  },
  {
   "cell_type": "code",
   "execution_count": 103,
   "metadata": {},
   "outputs": [
    {
     "data": {
      "text/html": [
       "<div>\n",
       "<style scoped>\n",
       "    .dataframe tbody tr th:only-of-type {\n",
       "        vertical-align: middle;\n",
       "    }\n",
       "\n",
       "    .dataframe tbody tr th {\n",
       "        vertical-align: top;\n",
       "    }\n",
       "\n",
       "    .dataframe thead th {\n",
       "        text-align: right;\n",
       "    }\n",
       "</style>\n",
       "<table border=\"1\" class=\"dataframe\">\n",
       "  <thead>\n",
       "    <tr style=\"text-align: right;\">\n",
       "      <th></th>\n",
       "      <th>current_sum</th>\n",
       "      <th>max_sum</th>\n",
       "      <th>update_time</th>\n",
       "    </tr>\n",
       "    <tr>\n",
       "      <th>match</th>\n",
       "      <th></th>\n",
       "      <th></th>\n",
       "      <th></th>\n",
       "    </tr>\n",
       "  </thead>\n",
       "  <tbody>\n",
       "    <tr>\n",
       "      <th>1</th>\n",
       "      <td>117</td>\n",
       "      <td>155</td>\n",
       "      <td>2022-01-30 13:30:41.860945920</td>\n",
       "    </tr>\n",
       "    <tr>\n",
       "      <th>278</th>\n",
       "      <td>54</td>\n",
       "      <td>70</td>\n",
       "      <td>2022-01-30 15:09:53.811023872</td>\n",
       "    </tr>\n",
       "    <tr>\n",
       "      <th>283</th>\n",
       "      <td>42</td>\n",
       "      <td>40</td>\n",
       "      <td>2022-01-30 15:22:09.645491968</td>\n",
       "    </tr>\n",
       "    <tr>\n",
       "      <th>288</th>\n",
       "      <td>39</td>\n",
       "      <td>45</td>\n",
       "      <td>2022-01-30 15:30:09.645491968</td>\n",
       "    </tr>\n",
       "    <tr>\n",
       "      <th>314</th>\n",
       "      <td>75</td>\n",
       "      <td>70</td>\n",
       "      <td>2022-01-30 16:25:20.101494016</td>\n",
       "    </tr>\n",
       "    <tr>\n",
       "      <th>324</th>\n",
       "      <td>40</td>\n",
       "      <td>45</td>\n",
       "      <td>2022-01-30 16:38:03.478376960</td>\n",
       "    </tr>\n",
       "    <tr>\n",
       "      <th>325</th>\n",
       "      <td>50</td>\n",
       "      <td>40</td>\n",
       "      <td>2022-01-30 16:31:03.478376960</td>\n",
       "    </tr>\n",
       "    <tr>\n",
       "      <th>361</th>\n",
       "      <td>30</td>\n",
       "      <td>45</td>\n",
       "      <td>2022-01-30 17:46:58.013772032</td>\n",
       "    </tr>\n",
       "    <tr>\n",
       "      <th>362</th>\n",
       "      <td>134</td>\n",
       "      <td>110</td>\n",
       "      <td>2022-01-30 17:41:21.067044352</td>\n",
       "    </tr>\n",
       "    <tr>\n",
       "      <th>400</th>\n",
       "      <td>83</td>\n",
       "      <td>70</td>\n",
       "      <td>2022-01-30 18:32:51.464544000</td>\n",
       "    </tr>\n",
       "    <tr>\n",
       "      <th>408</th>\n",
       "      <td>76</td>\n",
       "      <td>85</td>\n",
       "      <td>2022-01-30 18:37:21.464544000</td>\n",
       "    </tr>\n",
       "    <tr>\n",
       "      <th>432</th>\n",
       "      <td>121</td>\n",
       "      <td>155</td>\n",
       "      <td>2022-01-30 19:59:16.466439424</td>\n",
       "    </tr>\n",
       "    <tr>\n",
       "      <th>468</th>\n",
       "      <td>101</td>\n",
       "      <td>155</td>\n",
       "      <td>2022-01-30 20:41:23.808284928</td>\n",
       "    </tr>\n",
       "    <tr>\n",
       "      <th>564</th>\n",
       "      <td>56</td>\n",
       "      <td>155</td>\n",
       "      <td>2022-01-30 23:01:55.378220032</td>\n",
       "    </tr>\n",
       "    <tr>\n",
       "      <th>648</th>\n",
       "      <td>104</td>\n",
       "      <td>85</td>\n",
       "      <td>2022-01-31 08:10:16.902888960</td>\n",
       "    </tr>\n",
       "    <tr>\n",
       "      <th>652</th>\n",
       "      <td>107</td>\n",
       "      <td>70</td>\n",
       "      <td>2022-01-31 08:14:16.902888960</td>\n",
       "    </tr>\n",
       "    <tr>\n",
       "      <th>672</th>\n",
       "      <td>53</td>\n",
       "      <td>45</td>\n",
       "      <td>2022-01-31 09:03:48.424381952</td>\n",
       "    </tr>\n",
       "    <tr>\n",
       "      <th>674</th>\n",
       "      <td>114</td>\n",
       "      <td>110</td>\n",
       "      <td>2022-01-31 09:08:18.424381952</td>\n",
       "    </tr>\n",
       "    <tr>\n",
       "      <th>688</th>\n",
       "      <td>70</td>\n",
       "      <td>70</td>\n",
       "      <td>2022-01-31 09:09:58.324910080</td>\n",
       "    </tr>\n",
       "    <tr>\n",
       "      <th>708</th>\n",
       "      <td>110</td>\n",
       "      <td>70</td>\n",
       "      <td>2022-01-31 10:09:45.202530048</td>\n",
       "    </tr>\n",
       "    <tr>\n",
       "      <th>711</th>\n",
       "      <td>94</td>\n",
       "      <td>85</td>\n",
       "      <td>2022-01-31 10:06:45.202530048</td>\n",
       "    </tr>\n",
       "    <tr>\n",
       "      <th>768</th>\n",
       "      <td>179</td>\n",
       "      <td>155</td>\n",
       "      <td>2022-01-31 11:24:29.498531072</td>\n",
       "    </tr>\n",
       "    <tr>\n",
       "      <th>804</th>\n",
       "      <td>147</td>\n",
       "      <td>155</td>\n",
       "      <td>2022-01-31 12:18:02.146117888</td>\n",
       "    </tr>\n",
       "  </tbody>\n",
       "</table>\n",
       "</div>"
      ],
      "text/plain": [
       "       current_sum  max_sum                   update_time\n",
       "match                                                    \n",
       "1              117      155 2022-01-30 13:30:41.860945920\n",
       "278             54       70 2022-01-30 15:09:53.811023872\n",
       "283             42       40 2022-01-30 15:22:09.645491968\n",
       "288             39       45 2022-01-30 15:30:09.645491968\n",
       "314             75       70 2022-01-30 16:25:20.101494016\n",
       "324             40       45 2022-01-30 16:38:03.478376960\n",
       "325             50       40 2022-01-30 16:31:03.478376960\n",
       "361             30       45 2022-01-30 17:46:58.013772032\n",
       "362            134      110 2022-01-30 17:41:21.067044352\n",
       "400             83       70 2022-01-30 18:32:51.464544000\n",
       "408             76       85 2022-01-30 18:37:21.464544000\n",
       "432            121      155 2022-01-30 19:59:16.466439424\n",
       "468            101      155 2022-01-30 20:41:23.808284928\n",
       "564             56      155 2022-01-30 23:01:55.378220032\n",
       "648            104       85 2022-01-31 08:10:16.902888960\n",
       "652            107       70 2022-01-31 08:14:16.902888960\n",
       "672             53       45 2022-01-31 09:03:48.424381952\n",
       "674            114      110 2022-01-31 09:08:18.424381952\n",
       "688             70       70 2022-01-31 09:09:58.324910080\n",
       "708            110       70 2022-01-31 10:09:45.202530048\n",
       "711             94       85 2022-01-31 10:06:45.202530048\n",
       "768            179      155 2022-01-31 11:24:29.498531072\n",
       "804            147      155 2022-01-31 12:18:02.146117888"
      ]
     },
     "execution_count": 103,
     "metadata": {},
     "output_type": "execute_result"
    }
   ],
   "source": [
    "import numpy as np\n",
    "\n",
    "fitness = reduced[reduced.location.str.contains('Fitness')]\n",
    "fitness.groupby('match').agg(\n",
    "    current_sum=pd.NamedAgg(column='current_count', aggfunc='sum'),\n",
    "    max_sum=pd.NamedAgg(column='max_count', aggfunc='sum'),\n",
    "    update_time=pd.NamedAgg(column='update_time', aggfunc='mean'),\n",
    ")"
   ]
  },
  {
   "cell_type": "code",
   "execution_count": null,
   "metadata": {},
   "outputs": [],
   "source": []
  }
 ],
 "metadata": {
  "interpreter": {
   "hash": "aee8b7b246df8f9039afb4144a1f6fd8d2ca17a180786b69acc140d282b71a49"
  },
  "kernelspec": {
   "display_name": "Python 3.9.7 64-bit",
   "language": "python",
   "name": "python3"
  },
  "language_info": {
   "codemirror_mode": {
    "name": "ipython",
    "version": 3
   },
   "file_extension": ".py",
   "mimetype": "text/x-python",
   "name": "python",
   "nbconvert_exporter": "python",
   "pygments_lexer": "ipython3",
   "version": "3.9.7"
  },
  "orig_nbformat": 4
 },
 "nbformat": 4,
 "nbformat_minor": 2
}
